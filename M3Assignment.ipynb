{
 "cells": [
  {
   "cell_type": "markdown",
   "id": "56f67079-ce2d-4147-8ae6-63adf56400d1",
   "metadata": {},
   "source": []
  },
  {
   "cell_type": "code",
   "execution_count": null,
   "id": "7d381fd0-2cd2-4647-90e9-348f4f1abe3f",
   "metadata": {},
   "outputs": [],
   "source": [
    "#7.4\n",
    "things = [\"mozzarella\", \"cinderella\", \"salmonella\"]"
   ]
  },
  {
   "cell_type": "code",
   "execution_count": null,
   "id": "a25b4cf3-00ed-4623-b9b7-1462d1ec5472",
   "metadata": {},
   "outputs": [],
   "source": [
    "#7.5\n",
    "things = [\"mozzarella\", \"Cinderella\", \"salmonella\"]\n",
    "print(things)\n",
    "#it did captitalize the element when printed"
   ]
  },
  {
   "cell_type": "code",
   "execution_count": 2,
   "id": "36b356b6-85a0-4b06-adfb-af9908b49947",
   "metadata": {},
   "outputs": [
    {
     "name": "stdout",
     "output_type": "stream",
     "text": [
      "['MOZZARELLA', 'Cinderella', 'salmonella']\n"
     ]
    }
   ],
   "source": [
    "#7.6\n",
    "things = [\"MOZZARELLA\", \"Cinderella\", \"salmonella\"]\n",
    "print(things)"
   ]
  },
  {
   "cell_type": "code",
   "execution_count": 3,
   "id": "eef3dae8-c276-4136-a64b-c3dce1b60f6e",
   "metadata": {},
   "outputs": [
    {
     "name": "stdout",
     "output_type": "stream",
     "text": [
      "['MOZZARELLA', 'Cinderella']\n"
     ]
    }
   ],
   "source": [
    "#7.7\n",
    "things = [\"MOZZARELLA\", \"Cinderella\"]\n",
    "print(things)"
   ]
  },
  {
   "cell_type": "code",
   "execution_count": 4,
   "id": "07869490-7eee-46c6-b3e0-9dceaae9420c",
   "metadata": {},
   "outputs": [
    {
     "name": "stdout",
     "output_type": "stream",
     "text": [
      "['Harry', 'Ron', 'Hermione']\n"
     ]
    }
   ],
   "source": [
    "#9.1\n",
    "def good():\n",
    "    list = [\"Harry\", \"Ron\", \"Hermione\"]\n",
    "    print(list)\n",
    "\n",
    "good()"
   ]
  },
  {
   "cell_type": "code",
   "execution_count": 5,
   "id": "ca94dfe4-eeb4-4cef-aeac-6f88955e722f",
   "metadata": {},
   "outputs": [
    {
     "name": "stdout",
     "output_type": "stream",
     "text": [
      "The third odd number is:  5\n"
     ]
    },
    {
     "data": {
      "text/plain": [
       "[1, 3, 5, 7, 9]"
      ]
     },
     "execution_count": 5,
     "metadata": {},
     "output_type": "execute_result"
    }
   ],
   "source": [
    "#9.2\n",
    "def get_odds():\n",
    "    count = 0\n",
    "    odds = []\n",
    "    for number in range(10):\n",
    "        if number % 2 != 0:\n",
    "            odds.append(number)\n",
    "            count += 1\n",
    "            if count == 3:\n",
    "                print(\"The third odd number is: \", number)\n",
    "             \n",
    "    return odds\n",
    "\n",
    "get_odds()"
   ]
  },
  {
   "cell_type": "code",
   "execution_count": null,
   "id": "e6dc4d54-211b-40d6-8e55-55bbb0b452cc",
   "metadata": {},
   "outputs": [],
   "source": []
  }
 ],
 "metadata": {
  "kernelspec": {
   "display_name": "Python 3 (ipykernel)",
   "language": "python",
   "name": "python3"
  },
  "language_info": {
   "codemirror_mode": {
    "name": "ipython",
    "version": 3
   },
   "file_extension": ".py",
   "mimetype": "text/x-python",
   "name": "python",
   "nbconvert_exporter": "python",
   "pygments_lexer": "ipython3",
   "version": "3.11.7"
  }
 },
 "nbformat": 4,
 "nbformat_minor": 5
}
